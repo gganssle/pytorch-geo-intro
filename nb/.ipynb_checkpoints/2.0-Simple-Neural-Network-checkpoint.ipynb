{
 "cells": [
  {
   "cell_type": "markdown",
   "metadata": {},
   "source": [
    "# PyTorch\n",
    "# Intro to Neural Networks\n",
    "Lets use some simple models and try to match some simple problems"
   ]
  },
  {
   "cell_type": "code",
   "execution_count": 1,
   "metadata": {},
   "outputs": [],
   "source": [
    "import numpy as np\n",
    "\n",
    "import torch\n",
    "import torch.nn as nn\n",
    "\n",
    "from tensorboardX import SummaryWriter\n",
    "\n",
    "import matplotlib.pyplot as plt"
   ]
  },
  {
   "cell_type": "markdown",
   "metadata": {},
   "source": [
    "### Data Loading\n",
    "\n",
    "Before we dive deep into the nerual net, lets take a brief aside to discuss data loading.\n",
    "\n",
    "Pytorch provides a Dataset class which is fairly easy to inherit from.  We need only implement two methods for our data load:\n",
    "9. __len__(self) -> return the size of our dataset\n",
    "9. __getitem__(self, idx) -> return a data at a given index.\n",
    "\n",
    "The *real* benefit of implimenting a Dataset class comes from using the DataLoader class.\n",
    "For data sets which are too large to fit into memory (or more likely, GPU memory), the DataLoader class gives us two advantages:\n",
    "9. Efficient shuffling and random sampling for batches\n",
    "9. Data is loaded in a seperate *processes*.\n",
    "\n",
    "Number (2) above is *important*.  The Python interpretter is single threaded only, enforced with a GIL (Global Interpreter Lock).  Without (2), we waste valuable (and potentially expensive) processing time shuffling and sampling and building tensors.  \n",
    "So lets invest a little time to build a Dataset and use the DataLoader.\n",
    "\n",
    "In or example below, we are going to mock a dataset with a simple function, this time:\n",
    "\n",
    "y = sin(x) + 0.01 * x^2"
   ]
  },
  {
   "cell_type": "code",
   "execution_count": 2,
   "metadata": {
    "scrolled": false
   },
   "outputs": [
    {
     "name": "stderr",
     "output_type": "stream",
     "text": [
      "No handles with labels found to put in legend.\n"
     ]
    },
    {
     "data": {
      "image/png": "[encoded data removed]",
      "text/plain": [
       "<matplotlib.figure.Figure at 0x7f535402f6d8>"
      ]
     },
     "metadata": {},
     "output_type": "display_data"
    }
   ],
   "source": [
    "fun = lambda x: np.sin(x) + 0.01 * x * x\n",
    "\n",
    "X = np.linspace(-3, 3, 100)\n",
    "Y = fun(X)\n",
    "\n",
    "plt.figure(figsize=(7,7))\n",
    "\n",
    "plt.scatter(X,Y)\n",
    "\n",
    "plt.legend()    \n",
    "plt.show()"
   ]
  },
  {
   "cell_type": "markdown",
   "metadata": {},
   "source": [
    "### Our First Neural Net\n",
    "Lets now build our first neural net.\n",
    "\n",
    "In this case, we'll take a classic approach with 2 fully connected hidden layers and a fully connected output layer."
   ]
  },
  {
   "cell_type": "code",
   "execution_count": 3,
   "metadata": {},
   "outputs": [
    {
     "name": "stdout",
     "output_type": "stream",
     "text": [
      "FirstNet(\n",
      "  (fc1): Linear(in_features=1, out_features=64, bias=True)\n",
      "  (relu): ReLU()\n",
      "  (fc2): Linear(in_features=64, out_features=1, bias=True)\n",
      ")\n"
     ]
    }
   ],
   "source": [
    "class FirstNet(nn.Module):\n",
    "    def __init__(self, input_size, hidden_size, num_classes):\n",
    "        super(FirstNet, self).__init__()\n",
    "        \n",
    "        self.fc1 = nn.Linear(input_size, hidden_size) \n",
    "        self.relu = nn.ReLU()\n",
    "        self.fc2 = nn.Linear(hidden_size, num_classes)  \n",
    "    \n",
    "    def forward(self, x):\n",
    "        x = x.view(-1,1)\n",
    "        \n",
    "        out = self.fc1(x)\n",
    "        out = self.relu(out)\n",
    "        out = self.fc2(out)\n",
    "        \n",
    "        return out\n",
    "    \n",
    "net = FirstNet(input_size=1, hidden_size=64, num_classes=1)\n",
    "\n",
    "print(net)"
   ]
  },
  {
   "cell_type": "markdown",
   "metadata": {},
   "source": [
    "Lets look at a few key features of our net:\n",
    "\n",
    "1) We have 2 fully connected layers, defined in our init function.\n",
    "\n",
    "2) We define a *forward pass* method which is the prediction of the neural net given an input X\n",
    "\n",
    "3) Note that we make a *view* of our input array.  In our simple model, we expect a 1D X value, and we output a 1D Y value.  For efficiency, we may wish to pass in *many* X values, particularly when training.  Thus, we need to set up a *view* of our input array: Many 1D X values.  -1 in this case indicates that the first dimension (number of X values) is inferred from the tensor's shape.\n",
    "\n",
    "### Logging and Visualizing to TensorboardX\n",
    "\n",
    "Lets track the progress of our training and visualize in tensorboard (using tensorboardX).  We'll also add a few other useful functions to help visualize things.\n",
    "\n",
    "To view the output, run:\n",
    "`tensorboard --logdir nb/run`"
   ]
  },
  {
   "cell_type": "code",
   "execution_count": 4,
   "metadata": {},
   "outputs": [],
   "source": [
    "tbwriter = SummaryWriter()"
   ]
  },
  {
   "cell_type": "markdown",
   "metadata": {},
   "source": [
    "### Graph Visualization and Batching\n",
    "We will begin by adding a graph visualization to tensorboard.  To do this, we need a valid input to our network.\n",
    "\n",
    "Our network is simple - floating point in, floating point out.  *However*, pytorch expects us to *batch* our inputs - therefore it expects an *array* of inputs instead of a single input.  There are many ways to work around this, I like \"unsqueeze\"."
   ]
  },
  {
   "cell_type": "code",
   "execution_count": 5,
   "metadata": {},
   "outputs": [],
   "source": [
    "X = torch.FloatTensor([0.0])\n",
    "tbwriter.add_graph(net, X)"
   ]
  },
  {
   "cell_type": "markdown",
   "metadata": {},
   "source": [
    "### Cuda\n",
    "IF you have a GPU available, your training will run much faster.\n",
    "Moving data back and forth between the CPU and the GPU is fairly straightforward - although it can be easy to forget."
   ]
  },
  {
   "cell_type": "code",
   "execution_count": 6,
   "metadata": {},
   "outputs": [],
   "source": [
    "use_cuda = torch.cuda.is_available()\n",
    "if use_cuda:\n",
    "    net = net.cuda()"
   ]
  },
  {
   "cell_type": "code",
   "execution_count": 7,
   "metadata": {},
   "outputs": [
    {
     "data": {
      "image/png": "[encoded data removed]",
      "text/plain": [
       "<matplotlib.figure.Figure at 0x7f5350ba0358>"
      ]
     },
     "metadata": {},
     "output_type": "display_data"
    }
   ],
   "source": [
    "def makeFig(iteration):\n",
    "    X = np.linspace(-3, 3, 100, dtype=np.float32)\n",
    "    X = torch.FloatTensor(X)\n",
    "    if use_cuda:\n",
    "        Y = net.forward(X.cuda()).cpu()\n",
    "    else:\n",
    "        Y = net.forward(X)\n",
    "    \n",
    "    fig = plt.figure()\n",
    "    plt.plot(X.data.numpy(), Y.data.numpy())\n",
    "    plt.title('Prediciton at iter: {}'.format(iteration))\n",
    "    return fig\n",
    "    \n",
    "def showFig(iteration):\n",
    "    fig = makeFig(iteration)\n",
    "    plt.show()\n",
    "    plt.close()\n",
    "    \n",
    "def logFig(iteration):\n",
    "    fig = makeFig(iteration)\n",
    "    fig.canvas.draw()\n",
    "    raw = np.fromstring(fig.canvas.tostring_rgb(), dtype=np.uint8, sep='')\n",
    "    raw = raw.reshape(fig.canvas.get_width_height()[::-1] + (3,))\n",
    "    tbwriter.add_image('Prediction at iter: {}'.format(iteration), raw)\n",
    "    plt.close()\n",
    "    \n",
    "showFig(0)"
   ]
  },
  {
   "cell_type": "markdown",
   "metadata": {},
   "source": [
    "Ok, we have a ways to go.  Lets use our data loader and do some training.  Here we will use MSE loss (mean squared error) and SGD optimizer."
   ]
  },
  {
   "cell_type": "code",
   "execution_count": 8,
   "metadata": {
    "scrolled": true
   },
   "outputs": [
    {
     "name": "stdout",
     "output_type": "stream",
     "text": [
      "Epoch:   99 Loss: 0.07742928713560104\n"
     ]
    },
    {
     "name": "stderr",
     "output_type": "stream",
     "text": [
      "/home/gram/anaconda3/lib/python3.6/site-packages/ipykernel_launcher.py:30: UserWarning: invalid index of a 0-dim tensor. This will be an error in PyTorch 0.5. Use tensor.item() to convert a 0-dim tensor to a Python number\n",
      "/home/gram/anaconda3/lib/python3.6/site-packages/ipykernel_launcher.py:33: UserWarning: invalid index of a 0-dim tensor. This will be an error in PyTorch 0.5. Use tensor.item() to convert a 0-dim tensor to a Python number\n",
      "/home/gram/anaconda3/lib/python3.6/site-packages/ipykernel_launcher.py:22: DeprecationWarning: The binary mode of fromstring is deprecated, as it behaves surprisingly on unicode inputs. Use frombuffer instead\n"
     ]
    },
    {
     "name": "stdout",
     "output_type": "stream",
     "text": [
      "Epoch:  199 Loss: 0.03894583135843277\n",
      "Epoch:  299 Loss: 0.022184204310178757\n",
      "Epoch:  399 Loss: 0.01484001986682415\n",
      "Epoch:  499 Loss: 0.011532284319400787\n",
      "Epoch:  599 Loss: 0.00989421084523201\n",
      "Epoch:  699 Loss: 0.00893307849764824\n",
      "Epoch:  799 Loss: 0.008254851214587688\n",
      "Epoch:  899 Loss: 0.007700504269450903\n",
      "Epoch:  999 Loss: 0.007211923133581877\n",
      "Epoch: 1099 Loss: 0.006768803112208843\n",
      "Epoch: 1199 Loss: 0.0063585699535906315\n",
      "Epoch: 1299 Loss: 0.005974369589239359\n",
      "Epoch: 1399 Loss: 0.00561239430680871\n",
      "Epoch: 1499 Loss: 0.005273790564388037\n",
      "Epoch: 1599 Loss: 0.004961406346410513\n",
      "Epoch: 1699 Loss: 0.004673667252063751\n",
      "Epoch: 1799 Loss: 0.004403417930006981\n",
      "Epoch: 1899 Loss: 0.004149841144680977\n",
      "Epoch: 1999 Loss: 0.00391080416738987\n",
      "Epoch: 2099 Loss: 0.0036900416016578674\n",
      "Epoch: 2199 Loss: 0.0034865739289671183\n",
      "Epoch: 2299 Loss: 0.003295197384431958\n",
      "Epoch: 2399 Loss: 0.0031158006750047207\n",
      "Epoch: 2499 Loss: 0.002947835251688957\n",
      "Epoch: 2599 Loss: 0.0027905842289328575\n",
      "Epoch: 2699 Loss: 0.0026449081487953663\n",
      "Epoch: 2799 Loss: 0.0025111562572419643\n",
      "Epoch: 2899 Loss: 0.0023838295601308346\n",
      "Epoch: 2999 Loss: 0.002264664974063635\n",
      "Epoch: 3099 Loss: 0.00215326901525259\n",
      "Epoch: 3199 Loss: 0.002049041213467717\n",
      "Epoch: 3299 Loss: 0.001951213926076889\n",
      "Epoch: 3399 Loss: 0.0018598291790112853\n",
      "Epoch: 3499 Loss: 0.0017751778941601515\n",
      "Epoch: 3599 Loss: 0.0016957884654402733\n",
      "Epoch: 3699 Loss: 0.0016203677514567971\n",
      "Epoch: 3799 Loss: 0.0015493775717914104\n",
      "Epoch: 3899 Loss: 0.0014826308470219374\n",
      "Epoch: 3999 Loss: 0.0014197059208527207\n",
      "CPU times: user 15.2 s, sys: 310 ms, total: 15.5 s\n",
      "Wall time: 3.85 s\n"
     ]
    }
   ],
   "source": [
    "%%time\n",
    "\n",
    "learning_rate = 0.01\n",
    "num_epochs = 4000\n",
    "\n",
    "if use_cuda:\n",
    "    net = net.cuda()\n",
    "\n",
    "criterion = nn.MSELoss()\n",
    "optimizer = torch.optim.SGD(net.parameters(), lr=learning_rate)\n",
    "net.train()\n",
    "\n",
    "X = np.linspace(-3, 3, 100)\n",
    "Y = fun(X)\n",
    "\n",
    "X = torch.FloatTensor(X)\n",
    "Y = torch.FloatTensor(Y).view(-1,1)\n",
    "\n",
    "if use_cuda:\n",
    "    X = X.cuda()\n",
    "    Y = Y.cuda()\n",
    "\n",
    "for epoch in range(num_epochs):\n",
    "    pred = net.forward(X)\n",
    "    loss = criterion(pred, Y)\n",
    "\n",
    "    optimizer.zero_grad()\n",
    "    loss.backward()\n",
    "    optimizer.step()\n",
    "\n",
    "    tbwriter.add_scalar(\"Loss\", loss.data[0])\n",
    "\n",
    "    if (epoch % 100 == 99):\n",
    "        print(\"Epoch: {:>4} Loss: {}\".format(epoch, loss.data[0]))\n",
    "        for name, param in net.named_parameters():\n",
    "            tbwriter.add_histogram(name, param.clone().cpu().data.numpy(), epoch)\n",
    "        logFig(epoch)\n",
    "        \n",
    "net.eval()"
   ]
  },
  {
   "cell_type": "code",
   "execution_count": 9,
   "metadata": {},
   "outputs": [
    {
     "data": {
      "image/png": "[encoded data removed]",
      "text/plain": [
       "<matplotlib.figure.Figure at 0x7f5350b75978>"
      ]
     },
     "metadata": {},
     "output_type": "display_data"
    }
   ],
   "source": [
    "showFig(0)"
   ]
  },
  {
   "cell_type": "markdown",
   "metadata": {},
   "source": [
    "## Conclusions\n",
    "\n",
    "We've written our first network, take a moment and play with some of our models here.\n",
    "\n",
    "Try inputting a different function into the functional dataset, such as:\n",
    "  dataset = FunctionalDataset(lambda x: 1.0 if x > 0 else -1.0\n",
    "\n",
    "Try experimenting with the network - change the number of neurons in the layer, or add more layers.\n",
    "  \n",
    "Try changing the learning rate (and probably the number of epochs).\n",
    "\n",
    "And lastly, try disabling cuda (if you have a gpu).\n",
    "\n",
    "#### How well does the prediction match our input function?\n",
    "#### How long does it take to train?\n",
    "\n",
    "One last note: we are absolutely *over-fitting* our dataset here.  In this example, that's ok.  For real work, we will need to be more careful.\n",
    "\n",
    "Speaking of real work, lets do some real work identifying customer cohorts."
   ]
  },
  {
   "cell_type": "code",
   "execution_count": null,
   "metadata": {},
   "outputs": [],
   "source": []
  }
 ],
 "metadata": {
  "kernelspec": {
   "display_name": "Python 3",
   "language": "python",
   "name": "python3"
  },
  "language_info": {
   "codemirror_mode": {
    "name": "ipython",
    "version": 3
   },
   "file_extension": ".py",
   "mimetype": "text/x-python",
   "name": "python",
   "nbconvert_exporter": "python",
   "pygments_lexer": "ipython3",
   "version": "3.6.4"
  }
 },
 "nbformat": 4,
 "nbformat_minor": 2
}
